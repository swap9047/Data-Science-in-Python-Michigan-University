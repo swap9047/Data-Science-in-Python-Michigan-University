{
 "cells": [
  {
   "cell_type": "markdown",
   "metadata": {},
   "source": [
    "---\n",
    "\n",
    "_You are currently looking at **version 1.1** of this notebook. To download notebooks and datafiles, as well as get help on Jupyter notebooks in the Coursera platform, visit the [Jupyter Notebook FAQ](https://www.coursera.org/learn/python-text-mining/resources/d9pwm) course resource._\n",
    "\n",
    "---"
   ]
  },
  {
   "cell_type": "markdown",
   "metadata": {},
   "source": [
    "# Assignment 3\n",
    "\n",
    "In this assignment you will explore text message data and create models to predict if a message is spam or not. "
   ]
  },
  {
   "cell_type": "code",
   "execution_count": 1,
   "metadata": {},
   "outputs": [
    {
     "data": {
      "text/html": [
       "<div>\n",
       "<style>\n",
       "    .dataframe thead tr:only-child th {\n",
       "        text-align: right;\n",
       "    }\n",
       "\n",
       "    .dataframe thead th {\n",
       "        text-align: left;\n",
       "    }\n",
       "\n",
       "    .dataframe tbody tr th {\n",
       "        vertical-align: top;\n",
       "    }\n",
       "</style>\n",
       "<table border=\"1\" class=\"dataframe\">\n",
       "  <thead>\n",
       "    <tr style=\"text-align: right;\">\n",
       "      <th></th>\n",
       "      <th>text</th>\n",
       "      <th>target</th>\n",
       "    </tr>\n",
       "  </thead>\n",
       "  <tbody>\n",
       "    <tr>\n",
       "      <th>0</th>\n",
       "      <td>Go until jurong point, crazy.. Available only ...</td>\n",
       "      <td>0</td>\n",
       "    </tr>\n",
       "    <tr>\n",
       "      <th>1</th>\n",
       "      <td>Ok lar... Joking wif u oni...</td>\n",
       "      <td>0</td>\n",
       "    </tr>\n",
       "    <tr>\n",
       "      <th>2</th>\n",
       "      <td>Free entry in 2 a wkly comp to win FA Cup fina...</td>\n",
       "      <td>1</td>\n",
       "    </tr>\n",
       "    <tr>\n",
       "      <th>3</th>\n",
       "      <td>U dun say so early hor... U c already then say...</td>\n",
       "      <td>0</td>\n",
       "    </tr>\n",
       "    <tr>\n",
       "      <th>4</th>\n",
       "      <td>Nah I don't think he goes to usf, he lives aro...</td>\n",
       "      <td>0</td>\n",
       "    </tr>\n",
       "    <tr>\n",
       "      <th>5</th>\n",
       "      <td>FreeMsg Hey there darling it's been 3 week's n...</td>\n",
       "      <td>1</td>\n",
       "    </tr>\n",
       "    <tr>\n",
       "      <th>6</th>\n",
       "      <td>Even my brother is not like to speak with me. ...</td>\n",
       "      <td>0</td>\n",
       "    </tr>\n",
       "    <tr>\n",
       "      <th>7</th>\n",
       "      <td>As per your request 'Melle Melle (Oru Minnamin...</td>\n",
       "      <td>0</td>\n",
       "    </tr>\n",
       "    <tr>\n",
       "      <th>8</th>\n",
       "      <td>WINNER!! As a valued network customer you have...</td>\n",
       "      <td>1</td>\n",
       "    </tr>\n",
       "    <tr>\n",
       "      <th>9</th>\n",
       "      <td>Had your mobile 11 months or more? U R entitle...</td>\n",
       "      <td>1</td>\n",
       "    </tr>\n",
       "  </tbody>\n",
       "</table>\n",
       "</div>"
      ],
      "text/plain": [
       "                                                text  target\n",
       "0  Go until jurong point, crazy.. Available only ...       0\n",
       "1                      Ok lar... Joking wif u oni...       0\n",
       "2  Free entry in 2 a wkly comp to win FA Cup fina...       1\n",
       "3  U dun say so early hor... U c already then say...       0\n",
       "4  Nah I don't think he goes to usf, he lives aro...       0\n",
       "5  FreeMsg Hey there darling it's been 3 week's n...       1\n",
       "6  Even my brother is not like to speak with me. ...       0\n",
       "7  As per your request 'Melle Melle (Oru Minnamin...       0\n",
       "8  WINNER!! As a valued network customer you have...       1\n",
       "9  Had your mobile 11 months or more? U R entitle...       1"
      ]
     },
     "execution_count": 1,
     "metadata": {},
     "output_type": "execute_result"
    }
   ],
   "source": [
    "import pandas as pd\n",
    "import numpy as np\n",
    "\n",
    "spam_data = pd.read_csv('spam.csv')\n",
    "\n",
    "spam_data['target'] = np.where(spam_data['target']=='spam',1,0)\n",
    "spam_data.head(10)"
   ]
  },
  {
   "cell_type": "code",
   "execution_count": 2,
   "metadata": {
    "collapsed": true
   },
   "outputs": [],
   "source": [
    "from sklearn.model_selection import train_test_split\n",
    "\n",
    "\n",
    "X_train, X_test, y_train, y_test = train_test_split(spam_data['text'], \n",
    "                                                    spam_data['target'], \n",
    "                                                    random_state=0)"
   ]
  },
  {
   "cell_type": "markdown",
   "metadata": {},
   "source": [
    "### Question 1\n",
    "What percentage of the documents in `spam_data` are spam?\n",
    "\n",
    "*This function should return a float, the percent value (i.e. $ratio * 100$).*"
   ]
  },
  {
   "cell_type": "code",
   "execution_count": 3,
   "metadata": {
    "collapsed": true
   },
   "outputs": [],
   "source": [
    "def answer_one():\n",
    "    \n",
    "    \n",
    "    return np.mean(spam_data['target'])*100 #Your answer here"
   ]
  },
  {
   "cell_type": "code",
   "execution_count": 4,
   "metadata": {},
   "outputs": [
    {
     "data": {
      "text/plain": [
       "13.406317300789663"
      ]
     },
     "execution_count": 4,
     "metadata": {},
     "output_type": "execute_result"
    }
   ],
   "source": [
    "answer_one()"
   ]
  },
  {
   "cell_type": "markdown",
   "metadata": {},
   "source": [
    "### Question 2\n",
    "\n",
    "Fit the training data `X_train` using a Count Vectorizer with default parameters.\n",
    "\n",
    "What is the longest token in the vocabulary?\n",
    "\n",
    "*This function should return a string.*"
   ]
  },
  {
   "cell_type": "code",
   "execution_count": 5,
   "metadata": {
    "collapsed": true
   },
   "outputs": [],
   "source": [
    "from sklearn.feature_extraction.text import CountVectorizer\n",
    "\n",
    "def answer_two():\n",
    "    vect=CountVectorizer().fit(X_train)\n",
    "    \n",
    "    return max(vect.vocabulary_.keys(),key= lambda x : len(x)) #Your answer here"
   ]
  },
  {
   "cell_type": "code",
   "execution_count": 6,
   "metadata": {},
   "outputs": [
    {
     "data": {
      "text/plain": [
       "'com1win150ppmx3age16subscription'"
      ]
     },
     "execution_count": 6,
     "metadata": {},
     "output_type": "execute_result"
    }
   ],
   "source": [
    "answer_two()"
   ]
  },
  {
   "cell_type": "markdown",
   "metadata": {},
   "source": [
    "### Question 3\n",
    "\n",
    "Fit and transform the training data `X_train` using a Count Vectorizer with default parameters.\n",
    "\n",
    "Next, fit a fit a multinomial Naive Bayes classifier model with smoothing `alpha=0.1`. Find the area under the curve (AUC) score using the transformed test data.\n",
    "\n",
    "*This function should return the AUC score as a float.*"
   ]
  },
  {
   "cell_type": "code",
   "execution_count": 7,
   "metadata": {},
   "outputs": [
    {
     "data": {
      "text/plain": [
       "0.99154542213469599"
      ]
     },
     "execution_count": 7,
     "metadata": {},
     "output_type": "execute_result"
    }
   ],
   "source": [
    "from sklearn.naive_bayes import MultinomialNB\n",
    "from sklearn.metrics import roc_auc_score\n",
    "\n",
    "def answer_three():\n",
    "    vect=CountVectorizer().fit(X_train)\n",
    "    clf= MultinomialNB(alpha=0.1)\n",
    "    clf.fit(vect.transform(X_train),y_train)\n",
    "    predictions = clf.predict_proba(vect.transform(X_test))\n",
    "    prob=[i[1] for i in predictions ]\n",
    "    \n",
    "    return roc_auc_score(y_test,prob)#Your answer here\n",
    "answer_three()"
   ]
  },
  {
   "cell_type": "markdown",
   "metadata": {},
   "source": [
    "### Question 4\n",
    "\n",
    "Fit and transform the training data `X_train` using a Tfidf Vectorizer with default parameters.\n",
    "\n",
    "What 20 features have the smallest tf-idf and what 20 have the largest tf-idf?\n",
    "\n",
    "Put these features in a two series where each series is sorted by tf-idf value and then alphabetically by feature name. The index of the series should be the feature name, and the data should be the tf-idf.\n",
    "\n",
    "The series of 20 features with smallest tf-idfs should be sorted smallest tfidf first, the list of 20 features with largest tf-idfs should be sorted largest first. \n",
    "\n",
    "*This function should return a tuple of two series\n",
    "`(smallest tf-idfs series, largest tf-idfs series)`.*"
   ]
  },
  {
   "cell_type": "code",
   "execution_count": null,
   "metadata": {},
   "outputs": [],
   "source": [
    "from sklearn.feature_extraction.text import TfidfVectorizer\n",
    "\n",
    "\n",
    "vect = TfidfVectorizer().fit(X_train)\n",
    "X_train_vectorized = vect.transform(X_train)\n",
    "feature_names = vect.get_feature_names()\n",
    "lst=[]\n",
    "for i in range(X_train_vectorized.shape[0]):\n",
    "    lst.extend(list(zip(list(X_train_vectorized[1,:].toarray()[0]),feature_names)))\n",
    "    \n",
    "lst=sorted(lst,key =lambda x :(x[0],x[1]))\n",
    "max_list=sorted(lst[-20:],key =lambda x :(-x[0],x[1]))\n",
    "max_tfidf=[i[0] for i in max_list]\n",
    "max_idx=[i[1] for i in max_list]\n",
    "big_series=pd.Series(max_tfidf,index=max_idx)\n",
    "\n",
    "min_list=lst[:20]\n",
    "min_tfidf=[i[0] for i in min_list]\n",
    "min_idx=[i[1] for i in min_list]\n",
    "small_series=pd.Series(min_tfidf,index=min_idx)\n",
    "\n",
    "# return (small_series,big_series)\n",
    "# sorted_tfidf_index = X_train_vectorized.min(0).toarray()[0].argsort()\n",
    "# small_index = feature_names[sorted_tfidf_index[:20]]\n",
    "# small_value = X_train_vectorized.min(0).toarray()[0][sorted_tfidf_index[:20]]\n",
    "# smallTuples = [(value, word) for word, value in zip(small_index, small_value)]\n",
    "# smallTuples.sort()\n",
    "# small_index = [element[1] for element in smallTuples]\n",
    "# small_value = [element[0] for element in smallTuples]\n",
    "# small_series = pd.Series(small_value,index=small_index)\n",
    "\n",
    "# sorted_tfidf_index = X_train_vectorized.max(0).toarray()[0].argsort()\n",
    "# big_index = feature_names[sorted_tfidf_index[-20:]]\n",
    "# big_value = X_train_vectorized.max(0).toarray()[0][sorted_tfidf_index[-20:]]\n",
    "# bigTuples = [(-value, word) for word, value in zip(big_index, big_value)]\n",
    "# bigTuples.sort()\n",
    "# big_index = [element[1] for element in bigTuples]\n",
    "# big_value = [-element[0] for element in bigTuples]\n",
    "# big_series = pd.Series(big_value,index=big_index)\n",
    "\n"
   ]
  },
  {
   "cell_type": "code",
   "execution_count": 51,
   "metadata": {
    "collapsed": true
   },
   "outputs": [],
   "source": [
    "\n",
    "from sklearn.feature_extraction.text import TfidfVectorizer\n",
    "\n",
    "def answer_four():\n",
    "    vect = TfidfVectorizer().fit(X_train)\n",
    "    X_train_vectorized = vect.transform(X_train)\n",
    "    feature_names = np.array(vect.get_feature_names())\n",
    "    sorted_tfidf_index = X_train_vectorized.min(0).toarray()[0].argsort()\n",
    "    small_index = feature_names[sorted_tfidf_index[:20]]\n",
    "    small_value = X_train_vectorized.min(0).toarray()[0][sorted_tfidf_index[:20]]\n",
    "    smallTuples = [(value, word) for word, value in zip(small_index, small_value)]\n",
    "    smallTuples.sort()\n",
    "    small_index = [element[1] for element in smallTuples]\n",
    "    small_value = [element[0] for element in smallTuples]\n",
    "    small_series = pd.Series(small_value,index=small_index)\n",
    "\n",
    "    sorted_tfidf_index = X_train_vectorized.max(0).toarray()[0].argsort()\n",
    "    big_index = feature_names[sorted_tfidf_index[-20:]]\n",
    "    big_value = X_train_vectorized.max(0).toarray()[0][sorted_tfidf_index[-20:]]\n",
    "    bigTuples = [(-value, word) for word, value in zip(big_index, big_value)]\n",
    "    bigTuples.sort()\n",
    "    big_index = [element[1] for element in bigTuples]\n",
    "    big_value = [-element[0] for element in bigTuples]\n",
    "    big_series = pd.Series(big_value,index=big_index)\n",
    "    return (small_series, big_series)\n",
    "\n"
   ]
  },
  {
   "cell_type": "code",
   "execution_count": 52,
   "metadata": {},
   "outputs": [
    {
     "data": {
      "text/plain": [
       "(00                 0.0\n",
       " petrol             0.0\n",
       " petticoatdreams    0.0\n",
       " pg                 0.0\n",
       " ph                 0.0\n",
       " pharmacy           0.0\n",
       " phb1               0.0\n",
       " phews              0.0\n",
       " phil               0.0\n",
       " philosophical      0.0\n",
       " philosophy         0.0\n",
       " phne               0.0\n",
       " phoenix            0.0\n",
       " phone              0.0\n",
       " phonebook          0.0\n",
       " phoned             0.0\n",
       " phones             0.0\n",
       " phony              0.0\n",
       " photo              0.0\n",
       " photos             0.0\n",
       " dtype: float64, 146tf150p    1.000000\n",
       " 645          1.000000\n",
       " anything     1.000000\n",
       " anytime      1.000000\n",
       " beerage      1.000000\n",
       " done         1.000000\n",
       " er           1.000000\n",
       " havent       1.000000\n",
       " home         1.000000\n",
       " lei          1.000000\n",
       " nite         1.000000\n",
       " ok           1.000000\n",
       " okie         1.000000\n",
       " thank        1.000000\n",
       " thanx        1.000000\n",
       " too          1.000000\n",
       " where        1.000000\n",
       " yup          1.000000\n",
       " tick         0.980166\n",
       " blank        0.932702\n",
       " dtype: float64)"
      ]
     },
     "execution_count": 52,
     "metadata": {},
     "output_type": "execute_result"
    }
   ],
   "source": [
    "answer_four()"
   ]
  },
  {
   "cell_type": "markdown",
   "metadata": {},
   "source": [
    "### Question 5\n",
    "\n",
    "Fit and transform the training data `X_train` using a Tfidf Vectorizer ignoring terms that have a document frequency strictly lower than **3**.\n",
    "\n",
    "Then fit a multinomial Naive Bayes classifier model with smoothing `alpha=0.1` and compute the area under the curve (AUC) score using the transformed test data.\n",
    "\n",
    "*This function should return the AUC score as a float.*"
   ]
  },
  {
   "cell_type": "code",
   "execution_count": 14,
   "metadata": {
    "collapsed": true
   },
   "outputs": [],
   "source": [
    "from sklearn.feature_extraction.text import TfidfVectorizer\n",
    "def answer_five():\n",
    "    vect = TfidfVectorizer(min_df=3).fit(X_train)\n",
    "    clf= MultinomialNB(alpha=0.1)\n",
    "    clf.fit(vect.transform(X_train),y_train)\n",
    "    predictions = clf.predict_proba(vect.transform(X_test))\n",
    "    prob=[i[1] for i in predictions ]\n",
    "    \n",
    "    return roc_auc_score(y_test,prob)#Your answer here"
   ]
  },
  {
   "cell_type": "code",
   "execution_count": 15,
   "metadata": {},
   "outputs": [
    {
     "data": {
      "text/plain": [
       "0.99549683377756659"
      ]
     },
     "execution_count": 15,
     "metadata": {},
     "output_type": "execute_result"
    }
   ],
   "source": [
    "answer_five()"
   ]
  },
  {
   "cell_type": "markdown",
   "metadata": {},
   "source": [
    "### Question 6\n",
    "\n",
    "What is the average length of documents (number of characters) for not spam and spam documents?\n",
    "\n",
    "*This function should return a tuple (average length not spam, average length spam).*"
   ]
  },
  {
   "cell_type": "code",
   "execution_count": 16,
   "metadata": {
    "collapsed": true
   },
   "outputs": [],
   "source": [
    "def answer_six():\n",
    "    spam_data['number_char']=spam_data['text'].map(lambda x :len(x))\n",
    "    value=spam_data.loc[:,['number_char','target']].groupby(['target']).mean().loc[:,'number_char'].values\n",
    "    \n",
    "    return (value[0],value[1])#Your answer here"
   ]
  },
  {
   "cell_type": "code",
   "execution_count": 17,
   "metadata": {},
   "outputs": [
    {
     "data": {
      "text/plain": [
       "(71.023626943005183, 138.8661311914324)"
      ]
     },
     "execution_count": 17,
     "metadata": {},
     "output_type": "execute_result"
    }
   ],
   "source": [
    "answer_six()"
   ]
  },
  {
   "cell_type": "markdown",
   "metadata": {},
   "source": [
    "<br>\n",
    "<br>\n",
    "The following function has been provided to help you combine new features into the training data:"
   ]
  },
  {
   "cell_type": "code",
   "execution_count": 18,
   "metadata": {
    "collapsed": true
   },
   "outputs": [],
   "source": [
    "def add_feature(X, feature_to_add):\n",
    "    \"\"\"\n",
    "    Returns sparse feature matrix with added feature.\n",
    "    feature_to_add can also be a list of features.\n",
    "    \"\"\"\n",
    "    from scipy.sparse import csr_matrix, hstack\n",
    "    return hstack([X, csr_matrix(feature_to_add).T], 'csr')"
   ]
  },
  {
   "cell_type": "markdown",
   "metadata": {},
   "source": [
    "### Question 7\n",
    "\n",
    "Fit and transform the training data X_train using a Tfidf Vectorizer ignoring terms that have a document frequency strictly lower than **5**.\n",
    "\n",
    "Using this document-term matrix and an additional feature, **the length of document (number of characters)**, fit a Support Vector Classification model with regularization `C=10000`. Then compute the area under the curve (AUC) score using the transformed test data.\n",
    "\n",
    "*This function should return the AUC score as a float.*"
   ]
  },
  {
   "cell_type": "code",
   "execution_count": 20,
   "metadata": {
    "collapsed": true
   },
   "outputs": [],
   "source": [
    "\n",
    "\n",
    "from sklearn.svm import SVC\n",
    "def answer_seven():\n",
    "    X_train_len=X_train.map(lambda x: len(x))\n",
    "    X_test_len=X_test.map(lambda x: len(x))\n",
    "    vect=TfidfVectorizer(min_df=5).fit(X_train)\n",
    "    X_train1=add_feature(vect.transform(X_train),X_train_len)\n",
    "    model=SVC(C=10000,probability=True).fit(X_train1,y_train)\n",
    "    predictions = model.predict(add_feature(vect.transform(X_test),X_test_len))\n",
    "    \n",
    "    return roc_auc_score(y_test, predictions)#Your answer here\n",
    "    "
   ]
  },
  {
   "cell_type": "code",
   "execution_count": 21,
   "metadata": {},
   "outputs": [
    {
     "data": {
      "text/plain": [
       "0.95813668234215565"
      ]
     },
     "execution_count": 21,
     "metadata": {},
     "output_type": "execute_result"
    }
   ],
   "source": [
    "answer_seven()"
   ]
  },
  {
   "cell_type": "markdown",
   "metadata": {},
   "source": [
    "### Question 8\n",
    "\n",
    "What is the average number of digits per document for not spam and spam documents?\n",
    "\n",
    "*This function should return a tuple (average # digits not spam, average # digits spam).*"
   ]
  },
  {
   "cell_type": "code",
   "execution_count": 22,
   "metadata": {
    "collapsed": true
   },
   "outputs": [],
   "source": [
    "def answer_eight():\n",
    "    import re\n",
    "    spam_data['num_digits']=spam_data['text'].map(lambda x :len(re.findall(r'\\d',x)))\n",
    "    value=spam_data[['num_digits','target']].groupby(['target']).mean()['num_digits'].values\n",
    "    \n",
    "    return (value[0],value[1]) #Your answer here"
   ]
  },
  {
   "cell_type": "code",
   "execution_count": 23,
   "metadata": {},
   "outputs": [
    {
     "data": {
      "text/plain": [
       "(0.29927461139896372, 15.759036144578314)"
      ]
     },
     "execution_count": 23,
     "metadata": {},
     "output_type": "execute_result"
    }
   ],
   "source": [
    "answer_eight()"
   ]
  },
  {
   "cell_type": "markdown",
   "metadata": {},
   "source": [
    "### Question 9\n",
    "\n",
    "Fit and transform the training data `X_train` using a Tfidf Vectorizer ignoring terms that have a document frequency strictly lower than **5** and using **word n-grams from n=1 to n=3** (unigrams, bigrams, and trigrams).\n",
    "\n",
    "Using this document-term matrix and the following additional features:\n",
    "* the length of document (number of characters)\n",
    "* **number of digits per document**\n",
    "\n",
    "fit a Logistic Regression model with regularization `C=100`. Then compute the area under the curve (AUC) score using the transformed test data.\n",
    "\n",
    "*This function should return the AUC score as a float.*"
   ]
  },
  {
   "cell_type": "code",
   "execution_count": 34,
   "metadata": {
    "collapsed": true
   },
   "outputs": [],
   "source": [
    "\n",
    "\n",
    "from sklearn.linear_model import LogisticRegression\n",
    "\n",
    "def answer_nine():\n",
    "    X_train_len=X_train.map(lambda x: len(x))\n",
    "    X_test_len=X_test.map(lambda x: len(x))\n",
    "    import re\n",
    "    X_train_digit=X_train.map(lambda x :len(re.findall(r'(\\d)',x)))\n",
    "    X_test_digit=X_test.map(lambda x :len(re.findall(r'(\\d)',x)))\n",
    "    \n",
    "    vect=TfidfVectorizer(min_df=5 ,ngram_range=(1, 3)).fit(X_train)\n",
    "    X_train1=add_feature(vect.transform(X_train),X_train_len)\n",
    "    X_train1=add_feature(X_train1,X_train_digit)\n",
    "    model=LogisticRegression(C=100).fit(X_train1,y_train)\n",
    "\n",
    "    X_test1=add_feature(vect.transform(X_test),X_test_len)\n",
    "    X_test1=add_feature(X_test1,X_test_digit)\n",
    "    \n",
    "    \n",
    "    predictions=model.predict_proba(X_test1)\n",
    "    prob=[i[1] for i in predictions ]\n",
    "        \n",
    "    return roc_auc_score(y_test, prob)#Your answer here"
   ]
  },
  {
   "cell_type": "code",
   "execution_count": 35,
   "metadata": {},
   "outputs": [
    {
     "data": {
      "text/plain": [
       "0.99703325806834964"
      ]
     },
     "execution_count": 35,
     "metadata": {},
     "output_type": "execute_result"
    }
   ],
   "source": [
    "answer_nine()"
   ]
  },
  {
   "cell_type": "markdown",
   "metadata": {},
   "source": [
    "### Question 10\n",
    "\n",
    "What is the average number of non-word characters (anything other than a letter, digit or underscore) per document for not spam and spam documents?\n",
    "\n",
    "*Hint: Use `\\w` and `\\W` character classes*\n",
    "\n",
    "*This function should return a tuple (average # non-word characters not spam, average # non-word characters spam).*"
   ]
  },
  {
   "cell_type": "code",
   "execution_count": 28,
   "metadata": {
    "collapsed": true
   },
   "outputs": [],
   "source": [
    "def answer_ten():\n",
    "    import re\n",
    "    spam_data['num_nonword']=spam_data['text'].map(lambda x :len(re.findall(r'\\W',x)))\n",
    "    value=spam_data[['num_nonword','target']].groupby(['target']).mean()['num_nonword'].values\n",
    "    \n",
    "    return (value[0],value[1])#Your answer here"
   ]
  },
  {
   "cell_type": "code",
   "execution_count": 29,
   "metadata": {},
   "outputs": [
    {
     "data": {
      "text/plain": [
       "(17.291813471502589, 29.041499330655956)"
      ]
     },
     "execution_count": 29,
     "metadata": {},
     "output_type": "execute_result"
    }
   ],
   "source": [
    "answer_ten()"
   ]
  },
  {
   "cell_type": "markdown",
   "metadata": {},
   "source": [
    "### Question 11\n",
    "\n",
    "Fit and transform the training data X_train using a Count Vectorizer ignoring terms that have a document frequency strictly lower than **5** and using **character n-grams from n=2 to n=5.**\n",
    "\n",
    "To tell Count Vectorizer to use character n-grams pass in `analyzer='char_wb'` which creates character n-grams only from text inside word boundaries. This should make the model more robust to spelling mistakes.\n",
    "\n",
    "Using this document-term matrix and the following additional features:\n",
    "* the length of document (number of characters)\n",
    "* number of digits per document\n",
    "* **number of non-word characters (anything other than a letter, digit or underscore.)**\n",
    "\n",
    "fit a Logistic Regression model with regularization C=100. Then compute the area under the curve (AUC) score using the transformed test data.\n",
    "\n",
    "Also **find the 10 smallest and 10 largest coefficients from the model** and return them along with the AUC score in a tuple.\n",
    "\n",
    "The list of 10 smallest coefficients should be sorted smallest first, the list of 10 largest coefficients should be sorted largest first.\n",
    "\n",
    "The three features that were added to the document term matrix should have the following names should they appear in the list of coefficients:\n",
    "['length_of_doc', 'digit_count', 'non_word_char_count']\n",
    "\n",
    "*This function should return a tuple `(AUC score as a float, smallest coefs list, largest coefs list)`.*"
   ]
  },
  {
   "cell_type": "code",
   "execution_count": 69,
   "metadata": {
    "collapsed": true
   },
   "outputs": [],
   "source": []
  },
  {
   "cell_type": "code",
   "execution_count": null,
   "metadata": {
    "collapsed": true
   },
   "outputs": [],
   "source": [
    "roc_auc_score(y_test, predictions)"
   ]
  },
  {
   "cell_type": "code",
   "execution_count": 32,
   "metadata": {
    "collapsed": true
   },
   "outputs": [],
   "source": [
    "def answer_eleven():\n",
    "    length_of_doc=X_train.map(lambda x: len(x))\n",
    "#X_test_len\n",
    "    digit_count=X_train.map(lambda x :len(re.findall(r'\\d',x)))\n",
    "#X_test_digit\n",
    "    non_word_char_count=X_train.map(lambda x :len(re.findall(r'\\W',x)))\n",
    "    non_word_char_count_TEST=X_test.map(lambda x :len(re.findall(r'\\W',x)))\n",
    "    vect=TfidfVectorizer(min_df=5,analyzer='char_wb',ngram_range=(2,5)).fit(X_train)\n",
    "    \n",
    "    X_train1=vect.transform(X_train)\n",
    "    X_train1=add_feature(X_train1,length_of_doc)\n",
    "    X_train1=add_feature(X_train1,digit_count)\n",
    "    X_train1=add_feature(X_train1,non_word_char_count)\n",
    "    model=LogisticRegression(C=100).fit(X_train1,y_train)\n",
    "    \n",
    "    X_test_len=X_test.map(lambda x: len(x))\n",
    "    X_test1=add_feature(vect.transform(X_test),X_test_len)\n",
    "    X_test_digit=X_test.map(lambda x: len(re.findall(r'\\d',x)))\n",
    "    X_test1=add_feature(X_test1,X_test_digit)\n",
    "    X_test1=add_feature(X_test1,non_word_char_count_TEST)\n",
    "    \n",
    "    predictions=model.predict_proba(X_test1)\n",
    "    prob=[i[1] for i in predictions]\n",
    "    coefs=model.coef_\n",
    "    sorted_coefs_index=coefs.argsort()\n",
    "    features=vect.get_feature_names()\n",
    "    features.extend(['length_of_doc','digit_count','non_word_char_count'])\n",
    "    features=np.array(features)\n",
    "    \n",
    "    small10=list(features[sorted_coefs_index[0][:10]])\n",
    "    large10=list(features[sorted_coefs_index[0][-10:]])\n",
    "    large10=[large10[i] for i in range(9,-1,-1)]\n",
    "    #model.\n",
    "    auc= roc_auc_score(y_test, prob)#Your answer here\n",
    "    return (auc,small10,large10)"
   ]
  },
  {
   "cell_type": "code",
   "execution_count": 33,
   "metadata": {},
   "outputs": [
    {
     "data": {
      "text/plain": [
       "(0.9989474220328336,\n",
       " ['..', 'i ', ' i', 'ca', ' m', 'if', 'if ', 'my ', '. ', ' 6'],\n",
       " ['**', '***', 'xt', 'ww', 'co', 'ne', '****', 'ex', 'uk', 'eply '])"
      ]
     },
     "execution_count": 33,
     "metadata": {},
     "output_type": "execute_result"
    }
   ],
   "source": [
    "answer_eleven()"
   ]
  },
  {
   "cell_type": "code",
   "execution_count": null,
   "metadata": {
    "collapsed": true
   },
   "outputs": [],
   "source": []
  }
 ],
 "metadata": {
  "coursera": {
   "course_slug": "python-text-mining",
   "graded_item_id": "Pn19K",
   "launcher_item_id": "y1juS",
   "part_id": "ctlgo"
  },
  "kernelspec": {
   "display_name": "Python 3",
   "language": "python",
   "name": "python3"
  },
  "language_info": {
   "codemirror_mode": {
    "name": "ipython",
    "version": 3
   },
   "file_extension": ".py",
   "mimetype": "text/x-python",
   "name": "python",
   "nbconvert_exporter": "python",
   "pygments_lexer": "ipython3",
   "version": "3.6.0"
  }
 },
 "nbformat": 4,
 "nbformat_minor": 2
}
